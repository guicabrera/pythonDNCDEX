{
  "nbformat": 4,
  "nbformat_minor": 0,
  "metadata": {
    "colab": {
      "name": "DNCDEX Assigments",
      "private_outputs": true,
      "provenance": [],
      "collapsed_sections": [],
      "mount_file_id": "1vvqCtn4ifGH-I0-ozmYp1VBOIzZU0T71",
      "authorship_tag": "ABX9TyNtpfmrluGHCwcZ8LaXl+Nq",
      "include_colab_link": true
    },
    "kernelspec": {
      "name": "python3",
      "display_name": "Python 3"
    },
    "language_info": {
      "name": "python"
    }
  },
  "cells": [
    {
      "cell_type": "markdown",
      "metadata": {
        "id": "view-in-github",
        "colab_type": "text"
      },
      "source": [
        "<a href=\"https://colab.research.google.com/github/guicabrera/pythonDNCDEX/blob/main/DNCDEX_Assigments.ipynb\" target=\"_parent\"><img src=\"https://colab.research.google.com/assets/colab-badge.svg\" alt=\"Open In Colab\"/></a>"
      ]
    },
    {
      "cell_type": "markdown",
      "source": [
        "# Assigment 2"
      ],
      "metadata": {
        "id": "i_mDJWhzTjYh"
      }
    },
    {
      "cell_type": "code",
      "execution_count": null,
      "metadata": {
        "id": "a25baPYOEGLA"
      },
      "outputs": [],
      "source": [
        "l1 = [1,5,12,14,15,20]\n",
        "l2 = [2,3,7,10,11]\n",
        "l3 = l2[:]\n",
        "l4= l2\n",
        "l4.pop()\n",
        "l5=[]\n",
        "\n",
        "for v1,v2 in zip(l1,l2):\n",
        "  l5.append(v1+v2)\n",
        "  print(f\"v1 = {v1}; v2 = {v2}\")\n",
        "\n",
        "print(l5)"
      ]
    },
    {
      "cell_type": "markdown",
      "source": [
        "Assigment #2 Python DNC"
      ],
      "metadata": {
        "id": "SJCO0_fwGhAa"
      }
    },
    {
      "cell_type": "markdown",
      "source": [
        "1"
      ],
      "metadata": {
        "id": "2dSYhX7hG_ZX"
      }
    },
    {
      "cell_type": "code",
      "source": [
        "print(\"{:.2f}\".format(3.14159265359))\n",
        "print(\"{:2f}\".format(3.14159265359))"
      ],
      "metadata": {
        "id": "hKWo8ZybGeP_"
      },
      "execution_count": null,
      "outputs": []
    },
    {
      "cell_type": "markdown",
      "source": [
        "2"
      ],
      "metadata": {
        "id": "ykUCey6rHAzb"
      }
    },
    {
      "cell_type": "code",
      "source": [
        "a = 5\n",
        "b = \"3\"\n",
        "#print(int(a)+b)\n"
      ],
      "metadata": {
        "id": "VcQIIgPLHBSq"
      },
      "execution_count": null,
      "outputs": []
    },
    {
      "cell_type": "markdown",
      "source": [
        "4"
      ],
      "metadata": {
        "id": "l_8V9nWkIUFq"
      }
    },
    {
      "cell_type": "code",
      "source": [
        "Aluno 1: [Nota: 6, Presença: 75.0009]\n",
        "Aluno 2: [Nota: 5.9, Presença: 76]\n",
        "Aluno 3: [Nota: 3, Presença: 72]\n",
        "Aluno 4: [Nota: 9, Presença: 74.99]\n",
        "\n",
        "if nota >= 6 and presenca >= 75:\n",
        "  print(\"Aprovado.\") \n",
        "elif nota <= 5 and presenca >= 75:\n",
        "  print(\"Recuperação.\") \n",
        "elif nota >= 6 and presenca < 75:\n",
        "  print(\"Recuperação.\") \n",
        "else:\n",
        "  print(\"Reprovado.\")\n",
        "\n"
      ],
      "metadata": {
        "id": "F4EUf1t0I0Uq"
      },
      "execution_count": null,
      "outputs": []
    },
    {
      "cell_type": "markdown",
      "source": [
        "5"
      ],
      "metadata": {
        "id": "DeM69-0lMcUQ"
      }
    },
    {
      "cell_type": "code",
      "source": [
        "i = 0 \n",
        "a = 0 \n",
        "while a > -1: \n",
        "  a = int(input(\"Digite um número: \")) \n",
        "  if i < 10: \n",
        "    if a == -1: \n",
        "      break \n",
        "    else: \n",
        "      i += 1 \n",
        "  else: \n",
        "    break"
      ],
      "metadata": {
        "id": "UW5fyqIGMdTL"
      },
      "execution_count": null,
      "outputs": []
    },
    {
      "cell_type": "markdown",
      "source": [
        "8"
      ],
      "metadata": {
        "id": "t5ncUVTjSfcp"
      }
    },
    {
      "cell_type": "code",
      "source": [
        "lista= [0, 1, 1, 1, 0, 0, 0, 1, 0, 1, 1, 1, 0, 1, 0, 1, 0, 1, 1, 0, 0, 1, 0, 1, 0, 1, 1, 1, 0, 0, 1, 0, 0, 1, 1, 0, 1, 1, 1, 1, 0, 0, 1, 0, 0, 0, 0, 0, 0, 1, 1, 1, 0, 0, 1, 1, 0, 1, 1, 0, 0, 1, 0, 1, 0, 1, 1, 1, 0, 0, 1, 0, 0, 0, 1, 0, 0, 0, 0, 0, 0, 1, 1, 1, 0, 1, 0, 1, 0, 1, 1, 0, 1, 1, 0, 1, 0, 0, 1, 0, 0, 0, 0, 0, 0, 1, 1, 0, 0, 0, 1, 1, 0, 1, 1, 0, 1, 0, 0, 1, 0, 1, 1, 0, 0, 1, 0, 1, 0, 1, 1, 0, 1, 1, 1, 0, 0, 1, 1, 1, 0, 1, 0, 0, 0, 1, 1, 0, 1, 0, 0, 1, 0, 1, 1, 1, 0, 0, 1, 1, 0, 1, 1, 1, 0, 1, 0, 0, 0, 1, 1, 0, 0, 0, 0, 1, 0, 0, 1, 0, 0, 0, 0, 0, 0, 1, 1, 0, 0, 1, 0, 0, 0, 1, 1, 0, 0, 1, 0, 1, 0, 0, 1, 0, 0, 0, 0, 0, 0, 1, 1, 0, 0, 1, 0, 0, 0, 1, 1, 0, 0, 0, 0, 1, 0, 1, 1, 0, 0, 1, 0, 0, 0, 1, 1, 0, 1, 1, 1, 1, 0, 1, 1, 1, 0, 0, 1, 1]\n",
        "print((lista.count(1)/len(lista))*100)"
      ],
      "metadata": {
        "id": "0ScGovPmSgCF"
      },
      "execution_count": null,
      "outputs": []
    },
    {
      "cell_type": "markdown",
      "source": [
        "9"
      ],
      "metadata": {
        "id": "FwUr-nU4T_Y1"
      }
    },
    {
      "cell_type": "code",
      "source": [
        "lista = [{'Nome': 'laranja', 'preço': 6.0}, {'Nome': 'maça', 'preço': 4}, {'Nome': 'melancia', 'preço': 10.7}, {'Nome':'Melão', 'preço':8.2}]\n",
        "print(lista['preço'].mean())"
      ],
      "metadata": {
        "id": "qQJHXD6PUAgQ"
      },
      "execution_count": null,
      "outputs": []
    },
    {
      "cell_type": "markdown",
      "source": [
        "## 10"
      ],
      "metadata": {
        "id": "hcPw73PNWgYV"
      }
    },
    {
      "cell_type": "code",
      "source": [
        "dicionario = {'a':5, 'b':8.2, 'c':9, 'd':3, 'e': 100, 'f': 101, 'g': 210, 'h':12000, 'i':10000, 'j':1000000, 'k':-10**1000, 'l':-1000000}\n",
        "print(min(dicionario,key=dicionario.get))\n",
        "print(max(dicionario,key=dicionario.get))"
      ],
      "metadata": {
        "id": "oHGVHP_CWgDD"
      },
      "execution_count": null,
      "outputs": []
    },
    {
      "cell_type": "markdown",
      "source": [
        "# Certificação\n"
      ],
      "metadata": {
        "id": "sozyrvu2dCLw"
      }
    },
    {
      "cell_type": "markdown",
      "source": [
        "## 4"
      ],
      "metadata": {
        "id": "qBjuUmPfdHN-"
      }
    },
    {
      "cell_type": "code",
      "source": [
        "lista = [77,80,90,23,44,15,11,25,68,14,22,99] \n",
        "X = sorted(lista) \n",
        "print(X)"
      ],
      "metadata": {
        "id": "jd9xxMu0dE-p"
      },
      "execution_count": null,
      "outputs": []
    },
    {
      "cell_type": "markdown",
      "source": [
        "## 5\n"
      ],
      "metadata": {
        "id": "wtJJ9WQRdYOy"
      }
    },
    {
      "cell_type": "code",
      "source": [
        "altura = 1.75 \n",
        "peso = 79.2 \n",
        "IMC = peso/altura**2 \n",
        "print('{:.2f}'.format(IMC))"
      ],
      "metadata": {
        "id": "qaPPx4P5dZkr"
      },
      "execution_count": null,
      "outputs": []
    },
    {
      "cell_type": "markdown",
      "source": [
        "## 6"
      ],
      "metadata": {
        "id": "hWe-7Po1dmTX"
      }
    },
    {
      "cell_type": "code",
      "source": [
        " Lista1 = [1,2,3,4,5]\n",
        " Lista2 = [1,2,3,4,5]\n",
        " Lista3 = Lista1 + Lista2\n",
        " print(Lista3)"
      ],
      "metadata": {
        "id": "2AbJCM5jdnUW"
      },
      "execution_count": null,
      "outputs": []
    },
    {
      "cell_type": "markdown",
      "source": [
        "## 7"
      ],
      "metadata": {
        "id": "FoYZ9RM7eIDR"
      }
    },
    {
      "cell_type": "code",
      "source": [
        "dicionario = {'pessoa_1':{'nome':'Peterson','sobrenome':'Almeida'}, 'pessoa_2':{'nome':'Maria','sobrenome':'Silva'}, 'pessoa_3':{'nome':'Jose','sobrenome':'Santos'}} \n",
        "nome_completo=[] \n",
        "for a,b in dicionario.items():\n",
        "  nome_completo.append(str(b['nome'])+str(b['sobrenome']))\n",
        "  print(nome_completo)"
      ],
      "metadata": {
        "id": "h6NEUG2CeI-_"
      },
      "execution_count": null,
      "outputs": []
    },
    {
      "cell_type": "markdown",
      "source": [
        "## 8"
      ],
      "metadata": {
        "id": "WEgGHdZ7fITd"
      }
    },
    {
      "cell_type": "code",
      "source": [
        "a = '10' \n",
        "b = '3' \n",
        "c = int(a)%int(b) \n",
        "print(c)"
      ],
      "metadata": {
        "id": "Gli-I8x5fJRn"
      },
      "execution_count": null,
      "outputs": []
    },
    {
      "cell_type": "markdown",
      "source": [
        "## 9"
      ],
      "metadata": {
        "id": "O0Iu_xzzf9B0"
      }
    },
    {
      "cell_type": "code",
      "source": [
        "lista = [13,2,19,11,7,9,19,16,17,7,7,10,1,6,'dnc',18,2,11,2,9,10] \n",
        "X=0 \n",
        "i=0 \n",
        "while True: \n",
        "  if lista[i] == 'dnc': \n",
        "    break \n",
        "  if lista[i]%2 == 1:\n",
        "    X += lista[i] \n",
        "  i += 1 \n",
        "  print(X)"
      ],
      "metadata": {
        "id": "M3vH8WYIf-B4"
      },
      "execution_count": null,
      "outputs": []
    }
  ]
}