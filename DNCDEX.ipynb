{
  "nbformat": 4,
  "nbformat_minor": 0,
  "metadata": {
    "colab": {
      "name": "DNCDEX",
      "private_outputs": true,
      "provenance": [],
      "mount_file_id": "1vvqCtn4ifGH-I0-ozmYp1VBOIzZU0T71",
      "authorship_tag": "ABX9TyNLGR9pjx+DaPakGNpZo0Hk",
      "include_colab_link": true
    },
    "kernelspec": {
      "name": "python3",
      "display_name": "Python 3"
    },
    "language_info": {
      "name": "python"
    }
  },
  "cells": [
    {
      "cell_type": "markdown",
      "metadata": {
        "id": "view-in-github",
        "colab_type": "text"
      },
      "source": [
        "<a href=\"https://colab.research.google.com/github/guicabrera/pythonDNCDEX/blob/main/DNCDEX.ipynb\" target=\"_parent\"><img src=\"https://colab.research.google.com/assets/colab-badge.svg\" alt=\"Open In Colab\"/></a>"
      ]
    },
    {
      "cell_type": "code",
      "execution_count": null,
      "metadata": {
        "id": "a25baPYOEGLA"
      },
      "outputs": [],
      "source": [
        "5+5"
      ]
    },
    {
      "cell_type": "markdown",
      "source": [
        "I am typing some text"
      ],
      "metadata": {
        "id": "dTEeg3TlFwsS"
      }
    }
  ]
}